{
 "cells": [
  {
   "cell_type": "markdown",
   "metadata": {},
   "source": [
    "Simple Stock Analysis"
   ]
  },
  {
   "cell_type": "markdown",
   "metadata": {},
   "source": [
    "Stock analysis is the evaluation or examination of the stock market. There are many trading tools to use to analysis stocks such as fundamental and technical analysis. Fundamental analysis is more focused on data from the financial statements, economic reports, and company assets. Technical analysis is based on the study of the past of historical price to predict the future price movement. However, this tutorial is not to get rich quick. Therefore, do not use your money to trade based on this stock analysis. Please do not use this method to invest with your money and I am not responsible for you loss.   \n",
    "\n",
    "Simple stock is a basic stock analysis tutorial. There are 7 parts in this tutorial. \n",
    "1. Import Libraries\n",
    "2. Get data from Yahoo\n",
    "3. Analysis Data\n",
    "4. Understand the Data based on Statistics\n",
    "5. Calculate Prices\n",
    "6. Plot Charts\n",
    "7. Calculate Holding Period Return"
   ]
  },
  {
   "cell_type": "markdown",
   "metadata": {},
   "source": [
    "I. Import Libraries"
   ]
  },
  {
   "cell_type": "code",
   "execution_count": 1,
   "metadata": {
    "collapsed": false,
    "inputHidden": false,
    "jupyter": {
     "outputs_hidden": false
    },
    "outputHidden": false
   },
   "outputs": [],
   "source": [
    "# Import Libaries \n",
    "import pandas as pd\n",
    "import numpy as np\n",
    "import matplotlib.pyplot as plt\n",
    "%matplotlib inline\n",
    "\n",
    "import warnings\n",
    "warnings.filterwarnings(\"ignore\")\n",
    "\n",
    "import yfinance as yf\n",
    "yf.pdr_override()"
   ]
  },
  {
   "cell_type": "markdown",
   "metadata": {},
   "source": [
    "II. Get Data from Yahoo!\n",
    "\n",
    "This section we will pull the data from the website in Yahoo. We will be using the company of Apple and the symbol is 'AAPL'. Also, we will have a starting date and ending date."
   ]
  },
  {
   "cell_type": "code",
   "execution_count": 2,
   "metadata": {
    "collapsed": false,
    "inputHidden": false,
    "jupyter": {
     "outputs_hidden": false
    },
    "outputHidden": false
   },
   "outputs": [
    {
     "name": "stdin",
     "output_type": "stream",
     "text": [
      "Enter ticker of stock: aapl\n"
     ]
    },
    {
     "name": "stdout",
     "output_type": "stream",
     "text": [
      "[*********************100%***********************]  1 of 1 completed\n"
     ]
    }
   ],
   "source": [
    "# enter ticker of your chosing to analyze\n",
    "# for this example we will use 'aapl'\n",
    "stock = input(\"Enter ticker of stock:\")\n",
    "\n",
    "# pull the ticker from the yahoo finance api\n",
    "df = yf.download(stock)"
   ]
  },
  {
   "cell_type": "markdown",
   "metadata": {},
   "source": [
    "III. Analyze Data"
   ]
  },
  {
   "cell_type": "code",
   "execution_count": 63,
   "metadata": {
    "collapsed": false,
    "inputHidden": false,
    "jupyter": {
     "outputs_hidden": false
    },
    "outputHidden": false
   },
   "outputs": [
    {
     "data": {
      "text/html": [
       "<div>\n",
       "<style scoped>\n",
       "    .dataframe tbody tr th:only-of-type {\n",
       "        vertical-align: middle;\n",
       "    }\n",
       "\n",
       "    .dataframe tbody tr th {\n",
       "        vertical-align: top;\n",
       "    }\n",
       "\n",
       "    .dataframe thead th {\n",
       "        text-align: right;\n",
       "    }\n",
       "</style>\n",
       "<table border=\"1\" class=\"dataframe\">\n",
       "  <thead>\n",
       "    <tr style=\"text-align: right;\">\n",
       "      <th></th>\n",
       "      <th>Open</th>\n",
       "      <th>High</th>\n",
       "      <th>Low</th>\n",
       "      <th>Close</th>\n",
       "      <th>Adj Close</th>\n",
       "      <th>Volume</th>\n",
       "      <th>Daily_Returns</th>\n",
       "      <th>Log_Returns</th>\n",
       "      <th>RSI</th>\n",
       "      <th>MA</th>\n",
       "      <th>SMA</th>\n",
       "      <th>EMA</th>\n",
       "      <th>VWAP</th>\n",
       "    </tr>\n",
       "    <tr>\n",
       "      <th>Date</th>\n",
       "      <th></th>\n",
       "      <th></th>\n",
       "      <th></th>\n",
       "      <th></th>\n",
       "      <th></th>\n",
       "      <th></th>\n",
       "      <th></th>\n",
       "      <th></th>\n",
       "      <th></th>\n",
       "      <th></th>\n",
       "      <th></th>\n",
       "      <th></th>\n",
       "      <th></th>\n",
       "    </tr>\n",
       "  </thead>\n",
       "  <tbody>\n",
       "    <tr>\n",
       "      <th>1980-12-12</th>\n",
       "      <td>0.128348</td>\n",
       "      <td>0.128906</td>\n",
       "      <td>0.128348</td>\n",
       "      <td>0.128348</td>\n",
       "      <td>0.099874</td>\n",
       "      <td>469033600</td>\n",
       "      <td>NaN</td>\n",
       "      <td>NaN</td>\n",
       "      <td>NaN</td>\n",
       "      <td>NaN</td>\n",
       "      <td>NaN</td>\n",
       "      <td>NaN</td>\n",
       "      <td>0.13</td>\n",
       "    </tr>\n",
       "    <tr>\n",
       "      <th>1980-12-15</th>\n",
       "      <td>0.122210</td>\n",
       "      <td>0.122210</td>\n",
       "      <td>0.121652</td>\n",
       "      <td>0.121652</td>\n",
       "      <td>0.094663</td>\n",
       "      <td>175884800</td>\n",
       "      <td>0.055042</td>\n",
       "      <td>-0.053581</td>\n",
       "      <td>NaN</td>\n",
       "      <td>NaN</td>\n",
       "      <td>NaN</td>\n",
       "      <td>NaN</td>\n",
       "      <td>0.13</td>\n",
       "    </tr>\n",
       "    <tr>\n",
       "      <th>1980-12-16</th>\n",
       "      <td>0.113281</td>\n",
       "      <td>0.113281</td>\n",
       "      <td>0.112723</td>\n",
       "      <td>0.112723</td>\n",
       "      <td>0.087715</td>\n",
       "      <td>105728000</td>\n",
       "      <td>0.079212</td>\n",
       "      <td>-0.076231</td>\n",
       "      <td>NaN</td>\n",
       "      <td>NaN</td>\n",
       "      <td>NaN</td>\n",
       "      <td>NaN</td>\n",
       "      <td>0.12</td>\n",
       "    </tr>\n",
       "    <tr>\n",
       "      <th>1980-12-17</th>\n",
       "      <td>0.115513</td>\n",
       "      <td>0.116071</td>\n",
       "      <td>0.115513</td>\n",
       "      <td>0.115513</td>\n",
       "      <td>0.089886</td>\n",
       "      <td>86441600</td>\n",
       "      <td>-0.024153</td>\n",
       "      <td>0.024449</td>\n",
       "      <td>NaN</td>\n",
       "      <td>NaN</td>\n",
       "      <td>NaN</td>\n",
       "      <td>NaN</td>\n",
       "      <td>0.12</td>\n",
       "    </tr>\n",
       "    <tr>\n",
       "      <th>1980-12-18</th>\n",
       "      <td>0.118862</td>\n",
       "      <td>0.119420</td>\n",
       "      <td>0.118862</td>\n",
       "      <td>0.118862</td>\n",
       "      <td>0.092492</td>\n",
       "      <td>73449600</td>\n",
       "      <td>-0.028176</td>\n",
       "      <td>0.028580</td>\n",
       "      <td>NaN</td>\n",
       "      <td>NaN</td>\n",
       "      <td>NaN</td>\n",
       "      <td>NaN</td>\n",
       "      <td>0.12</td>\n",
       "    </tr>\n",
       "  </tbody>\n",
       "</table>\n",
       "</div>"
      ],
      "text/plain": [
       "                Open      High       Low     Close  Adj Close     Volume  \\\n",
       "Date                                                                       \n",
       "1980-12-12  0.128348  0.128906  0.128348  0.128348   0.099874  469033600   \n",
       "1980-12-15  0.122210  0.122210  0.121652  0.121652   0.094663  175884800   \n",
       "1980-12-16  0.113281  0.113281  0.112723  0.112723   0.087715  105728000   \n",
       "1980-12-17  0.115513  0.116071  0.115513  0.115513   0.089886   86441600   \n",
       "1980-12-18  0.118862  0.119420  0.118862  0.118862   0.092492   73449600   \n",
       "\n",
       "            Daily_Returns  Log_Returns  RSI  MA  SMA  EMA  VWAP  \n",
       "Date                                                             \n",
       "1980-12-12            NaN          NaN  NaN NaN  NaN  NaN  0.13  \n",
       "1980-12-15       0.055042    -0.053581  NaN NaN  NaN  NaN  0.13  \n",
       "1980-12-16       0.079212    -0.076231  NaN NaN  NaN  NaN  0.12  \n",
       "1980-12-17      -0.024153     0.024449  NaN NaN  NaN  NaN  0.12  \n",
       "1980-12-18      -0.028176     0.028580  NaN NaN  NaN  NaN  0.12  "
      ]
     },
     "metadata": {},
     "output_type": "display_data"
    },
    {
     "data": {
      "text/html": [
       "<div>\n",
       "<style scoped>\n",
       "    .dataframe tbody tr th:only-of-type {\n",
       "        vertical-align: middle;\n",
       "    }\n",
       "\n",
       "    .dataframe tbody tr th {\n",
       "        vertical-align: top;\n",
       "    }\n",
       "\n",
       "    .dataframe thead th {\n",
       "        text-align: right;\n",
       "    }\n",
       "</style>\n",
       "<table border=\"1\" class=\"dataframe\">\n",
       "  <thead>\n",
       "    <tr style=\"text-align: right;\">\n",
       "      <th></th>\n",
       "      <th>Open</th>\n",
       "      <th>High</th>\n",
       "      <th>Low</th>\n",
       "      <th>Close</th>\n",
       "      <th>Adj Close</th>\n",
       "      <th>Volume</th>\n",
       "      <th>Daily_Returns</th>\n",
       "      <th>Log_Returns</th>\n",
       "      <th>RSI</th>\n",
       "      <th>MA</th>\n",
       "      <th>SMA</th>\n",
       "      <th>EMA</th>\n",
       "      <th>VWAP</th>\n",
       "    </tr>\n",
       "    <tr>\n",
       "      <th>Date</th>\n",
       "      <th></th>\n",
       "      <th></th>\n",
       "      <th></th>\n",
       "      <th></th>\n",
       "      <th></th>\n",
       "      <th></th>\n",
       "      <th></th>\n",
       "      <th></th>\n",
       "      <th></th>\n",
       "      <th></th>\n",
       "      <th></th>\n",
       "      <th></th>\n",
       "      <th></th>\n",
       "    </tr>\n",
       "  </thead>\n",
       "  <tbody>\n",
       "    <tr>\n",
       "      <th>2022-11-10</th>\n",
       "      <td>141.240005</td>\n",
       "      <td>146.869995</td>\n",
       "      <td>139.500000</td>\n",
       "      <td>146.869995</td>\n",
       "      <td>146.869995</td>\n",
       "      <td>118854000</td>\n",
       "      <td>-0.081705</td>\n",
       "      <td>0.085236</td>\n",
       "      <td>41.991193</td>\n",
       "      <td>143.532070</td>\n",
       "      <td>143.532070</td>\n",
       "      <td>145.136704</td>\n",
       "      <td>8.68</td>\n",
       "    </tr>\n",
       "    <tr>\n",
       "      <th>2022-11-11</th>\n",
       "      <td>145.820007</td>\n",
       "      <td>150.009995</td>\n",
       "      <td>144.369995</td>\n",
       "      <td>149.699997</td>\n",
       "      <td>149.699997</td>\n",
       "      <td>93903800</td>\n",
       "      <td>-0.018904</td>\n",
       "      <td>0.019085</td>\n",
       "      <td>49.339057</td>\n",
       "      <td>143.686269</td>\n",
       "      <td>143.686269</td>\n",
       "      <td>145.248529</td>\n",
       "      <td>8.68</td>\n",
       "    </tr>\n",
       "    <tr>\n",
       "      <th>2022-11-14</th>\n",
       "      <td>148.970001</td>\n",
       "      <td>150.279999</td>\n",
       "      <td>147.429993</td>\n",
       "      <td>148.279999</td>\n",
       "      <td>148.279999</td>\n",
       "      <td>73374100</td>\n",
       "      <td>0.009576</td>\n",
       "      <td>-0.009531</td>\n",
       "      <td>50.857686</td>\n",
       "      <td>144.077232</td>\n",
       "      <td>144.077232</td>\n",
       "      <td>145.535721</td>\n",
       "      <td>8.69</td>\n",
       "    </tr>\n",
       "    <tr>\n",
       "      <th>2022-11-15</th>\n",
       "      <td>152.220001</td>\n",
       "      <td>153.589996</td>\n",
       "      <td>148.559998</td>\n",
       "      <td>150.039993</td>\n",
       "      <td>150.039993</td>\n",
       "      <td>89868300</td>\n",
       "      <td>-0.011730</td>\n",
       "      <td>0.011800</td>\n",
       "      <td>50.078477</td>\n",
       "      <td>144.279429</td>\n",
       "      <td>144.279429</td>\n",
       "      <td>145.712771</td>\n",
       "      <td>8.69</td>\n",
       "    </tr>\n",
       "    <tr>\n",
       "      <th>2022-11-16</th>\n",
       "      <td>149.130005</td>\n",
       "      <td>149.869995</td>\n",
       "      <td>147.289993</td>\n",
       "      <td>148.789993</td>\n",
       "      <td>148.789993</td>\n",
       "      <td>63918648</td>\n",
       "      <td>0.008401</td>\n",
       "      <td>-0.008366</td>\n",
       "      <td>51.040273</td>\n",
       "      <td>144.418827</td>\n",
       "      <td>144.418827</td>\n",
       "      <td>145.991946</td>\n",
       "      <td>8.69</td>\n",
       "    </tr>\n",
       "  </tbody>\n",
       "</table>\n",
       "</div>"
      ],
      "text/plain": [
       "                  Open        High         Low       Close   Adj Close  \\\n",
       "Date                                                                     \n",
       "2022-11-10  141.240005  146.869995  139.500000  146.869995  146.869995   \n",
       "2022-11-11  145.820007  150.009995  144.369995  149.699997  149.699997   \n",
       "2022-11-14  148.970001  150.279999  147.429993  148.279999  148.279999   \n",
       "2022-11-15  152.220001  153.589996  148.559998  150.039993  150.039993   \n",
       "2022-11-16  149.130005  149.869995  147.289993  148.789993  148.789993   \n",
       "\n",
       "               Volume  Daily_Returns  Log_Returns        RSI          MA  \\\n",
       "Date                                                                       \n",
       "2022-11-10  118854000      -0.081705     0.085236  41.991193  143.532070   \n",
       "2022-11-11   93903800      -0.018904     0.019085  49.339057  143.686269   \n",
       "2022-11-14   73374100       0.009576    -0.009531  50.857686  144.077232   \n",
       "2022-11-15   89868300      -0.011730     0.011800  50.078477  144.279429   \n",
       "2022-11-16   63918648       0.008401    -0.008366  51.040273  144.418827   \n",
       "\n",
       "                   SMA         EMA  VWAP  \n",
       "Date                                      \n",
       "2022-11-10  143.532070  145.136704  8.68  \n",
       "2022-11-11  143.686269  145.248529  8.68  \n",
       "2022-11-14  144.077232  145.535721  8.69  \n",
       "2022-11-15  144.279429  145.712771  8.69  \n",
       "2022-11-16  144.418827  145.991946  8.69  "
      ]
     },
     "metadata": {},
     "output_type": "display_data"
    }
   ],
   "source": [
    "# the first 5 rows\n",
    "display(df.head()) \n",
    "\n",
    "# the last 5 rows\n",
    "display(df.tail())"
   ]
  },
  {
   "cell_type": "code",
   "execution_count": 5,
   "metadata": {
    "collapsed": false,
    "inputHidden": false,
    "jupyter": {
     "outputs_hidden": false
    },
    "outputHidden": false
   },
   "outputs": [
    {
     "data": {
      "text/plain": [
       "(10573, 6)"
      ]
     },
     "execution_count": 5,
     "metadata": {},
     "output_type": "execute_result"
    }
   ],
   "source": [
    "# (rows, columns)\n",
    "df.shape"
   ]
  },
  {
   "cell_type": "code",
   "execution_count": 6,
   "metadata": {
    "collapsed": false,
    "inputHidden": false,
    "jupyter": {
     "outputs_hidden": false
    },
    "outputHidden": false
   },
   "outputs": [
    {
     "data": {
      "text/plain": [
       "Index(['Open', 'High', 'Low', 'Close', 'Adj Close', 'Volume'], dtype='object')"
      ]
     },
     "execution_count": 6,
     "metadata": {},
     "output_type": "execute_result"
    }
   ],
   "source": [
    "# Shows names of columns\n",
    "df.columns \n"
   ]
  },
  {
   "cell_type": "code",
   "execution_count": 7,
   "metadata": {
    "collapsed": false,
    "inputHidden": false,
    "jupyter": {
     "outputs_hidden": false
    },
    "outputHidden": false
   },
   "outputs": [
    {
     "data": {
      "text/plain": [
       "Open         float64\n",
       "High         float64\n",
       "Low          float64\n",
       "Close        float64\n",
       "Adj Close    float64\n",
       "Volume         int64\n",
       "dtype: object"
      ]
     },
     "execution_count": 7,
     "metadata": {},
     "output_type": "execute_result"
    }
   ],
   "source": [
    "# Shows data types\n",
    "df.dtypes "
   ]
  },
  {
   "cell_type": "code",
   "execution_count": 8,
   "metadata": {
    "collapsed": false,
    "inputHidden": false,
    "jupyter": {
     "outputs_hidden": false
    },
    "outputHidden": false
   },
   "outputs": [
    {
     "name": "stdout",
     "output_type": "stream",
     "text": [
      "<class 'pandas.core.frame.DataFrame'>\n",
      "DatetimeIndex: 10573 entries, 1980-12-12 to 2022-11-16\n",
      "Data columns (total 6 columns):\n",
      " #   Column     Non-Null Count  Dtype  \n",
      "---  ------     --------------  -----  \n",
      " 0   Open       10573 non-null  float64\n",
      " 1   High       10573 non-null  float64\n",
      " 2   Low        10573 non-null  float64\n",
      " 3   Close      10573 non-null  float64\n",
      " 4   Adj Close  10573 non-null  float64\n",
      " 5   Volume     10573 non-null  int64  \n",
      "dtypes: float64(5), int64(1)\n",
      "memory usage: 578.2 KB\n"
     ]
    }
   ],
   "source": [
    "# Shows information about DataFrame\n",
    "df.info() "
   ]
  },
  {
   "cell_type": "code",
   "execution_count": 9,
   "metadata": {
    "collapsed": false,
    "inputHidden": false,
    "jupyter": {
     "outputs_hidden": false
    },
    "outputHidden": false
   },
   "outputs": [
    {
     "data": {
      "text/html": [
       "<div>\n",
       "<style scoped>\n",
       "    .dataframe tbody tr th:only-of-type {\n",
       "        vertical-align: middle;\n",
       "    }\n",
       "\n",
       "    .dataframe tbody tr th {\n",
       "        vertical-align: top;\n",
       "    }\n",
       "\n",
       "    .dataframe thead th {\n",
       "        text-align: right;\n",
       "    }\n",
       "</style>\n",
       "<table border=\"1\" class=\"dataframe\">\n",
       "  <thead>\n",
       "    <tr style=\"text-align: right;\">\n",
       "      <th></th>\n",
       "      <th>Open</th>\n",
       "      <th>High</th>\n",
       "      <th>Low</th>\n",
       "      <th>Close</th>\n",
       "      <th>Adj Close</th>\n",
       "      <th>Volume</th>\n",
       "    </tr>\n",
       "  </thead>\n",
       "  <tbody>\n",
       "    <tr>\n",
       "      <th>count</th>\n",
       "      <td>10573.000000</td>\n",
       "      <td>10573.000000</td>\n",
       "      <td>10573.000000</td>\n",
       "      <td>10573.000000</td>\n",
       "      <td>10573.000000</td>\n",
       "      <td>1.057300e+04</td>\n",
       "    </tr>\n",
       "    <tr>\n",
       "      <th>mean</th>\n",
       "      <td>16.115254</td>\n",
       "      <td>16.298066</td>\n",
       "      <td>15.934885</td>\n",
       "      <td>16.123227</td>\n",
       "      <td>15.450956</td>\n",
       "      <td>3.283794e+08</td>\n",
       "    </tr>\n",
       "    <tr>\n",
       "      <th>std</th>\n",
       "      <td>34.541994</td>\n",
       "      <td>34.959766</td>\n",
       "      <td>34.137658</td>\n",
       "      <td>34.565143</td>\n",
       "      <td>34.225272</td>\n",
       "      <td>3.380624e+08</td>\n",
       "    </tr>\n",
       "    <tr>\n",
       "      <th>min</th>\n",
       "      <td>0.049665</td>\n",
       "      <td>0.049665</td>\n",
       "      <td>0.049107</td>\n",
       "      <td>0.049107</td>\n",
       "      <td>0.038213</td>\n",
       "      <td>0.000000e+00</td>\n",
       "    </tr>\n",
       "    <tr>\n",
       "      <th>25%</th>\n",
       "      <td>0.285714</td>\n",
       "      <td>0.293527</td>\n",
       "      <td>0.279018</td>\n",
       "      <td>0.285893</td>\n",
       "      <td>0.236546</td>\n",
       "      <td>1.218784e+08</td>\n",
       "    </tr>\n",
       "    <tr>\n",
       "      <th>50%</th>\n",
       "      <td>0.483929</td>\n",
       "      <td>0.491071</td>\n",
       "      <td>0.475446</td>\n",
       "      <td>0.483259</td>\n",
       "      <td>0.399669</td>\n",
       "      <td>2.155552e+08</td>\n",
       "    </tr>\n",
       "    <tr>\n",
       "      <th>75%</th>\n",
       "      <td>15.850714</td>\n",
       "      <td>16.017143</td>\n",
       "      <td>15.650714</td>\n",
       "      <td>15.813571</td>\n",
       "      <td>13.705920</td>\n",
       "      <td>4.072992e+08</td>\n",
       "    </tr>\n",
       "    <tr>\n",
       "      <th>max</th>\n",
       "      <td>182.630005</td>\n",
       "      <td>182.940002</td>\n",
       "      <td>179.119995</td>\n",
       "      <td>182.009995</td>\n",
       "      <td>180.959732</td>\n",
       "      <td>7.421641e+09</td>\n",
       "    </tr>\n",
       "  </tbody>\n",
       "</table>\n",
       "</div>"
      ],
      "text/plain": [
       "               Open          High           Low         Close     Adj Close  \\\n",
       "count  10573.000000  10573.000000  10573.000000  10573.000000  10573.000000   \n",
       "mean      16.115254     16.298066     15.934885     16.123227     15.450956   \n",
       "std       34.541994     34.959766     34.137658     34.565143     34.225272   \n",
       "min        0.049665      0.049665      0.049107      0.049107      0.038213   \n",
       "25%        0.285714      0.293527      0.279018      0.285893      0.236546   \n",
       "50%        0.483929      0.491071      0.475446      0.483259      0.399669   \n",
       "75%       15.850714     16.017143     15.650714     15.813571     13.705920   \n",
       "max      182.630005    182.940002    179.119995    182.009995    180.959732   \n",
       "\n",
       "             Volume  \n",
       "count  1.057300e+04  \n",
       "mean   3.283794e+08  \n",
       "std    3.380624e+08  \n",
       "min    0.000000e+00  \n",
       "25%    1.218784e+08  \n",
       "50%    2.155552e+08  \n",
       "75%    4.072992e+08  \n",
       "max    7.421641e+09  "
      ]
     },
     "execution_count": 9,
     "metadata": {},
     "output_type": "execute_result"
    }
   ],
   "source": [
    "# Shows summary statistics based on stock data \n",
    "df.describe() "
   ]
  },
  {
   "cell_type": "markdown",
   "metadata": {},
   "source": [
    "IV. Understand the Data based on Statistics"
   ]
  },
  {
   "cell_type": "markdown",
   "metadata": {},
   "source": [
    "Using \"Adj. Close\" price to find the minimum, maximum, average and standard deviation prices. The reason we are using \"Adj. Close\" is to show historical returns. The Adjusted Prices itakes into account the dividend and splits, while the Close price does not include dividend and splits."
   ]
  },
  {
   "cell_type": "code",
   "execution_count": 10,
   "metadata": {
    "collapsed": false,
    "inputHidden": false,
    "jupyter": {
     "outputs_hidden": false
    },
    "outputHidden": false
   },
   "outputs": [
    {
     "data": {
      "text/plain": [
       "0.038212548941373825"
      ]
     },
     "execution_count": 10,
     "metadata": {},
     "output_type": "execute_result"
    }
   ],
   "source": [
    "# Use only Adj. Closing\n",
    "# Find the minimum\n",
    "df['Adj Close'].min()"
   ]
  },
  {
   "cell_type": "code",
   "execution_count": 11,
   "metadata": {
    "collapsed": false,
    "inputHidden": false,
    "jupyter": {
     "outputs_hidden": false
    },
    "outputHidden": false
   },
   "outputs": [
    {
     "data": {
      "text/plain": [
       "180.95973205566406"
      ]
     },
     "execution_count": 11,
     "metadata": {},
     "output_type": "execute_result"
    }
   ],
   "source": [
    "# Use only Adj. Closing\n",
    "# Find the maximum\n",
    "df['Adj Close'].max()"
   ]
  },
  {
   "cell_type": "code",
   "execution_count": 27,
   "metadata": {
    "collapsed": false,
    "inputHidden": false,
    "jupyter": {
     "outputs_hidden": false
    },
    "outputHidden": false
   },
   "outputs": [
    {
     "data": {
      "text/plain": [
       "15.450955620647015"
      ]
     },
     "execution_count": 27,
     "metadata": {},
     "output_type": "execute_result"
    }
   ],
   "source": [
    "# Use only Adj. Closing\n",
    "# Find the average\n",
    "df['Adj Close'].mean()"
   ]
  },
  {
   "cell_type": "code",
   "execution_count": 28,
   "metadata": {
    "collapsed": false,
    "inputHidden": false,
    "jupyter": {
     "outputs_hidden": false
    },
    "outputHidden": false
   },
   "outputs": [
    {
     "data": {
      "text/plain": [
       "34.225271847357035"
      ]
     },
     "execution_count": 28,
     "metadata": {},
     "output_type": "execute_result"
    }
   ],
   "source": [
    "# Use only Adj. Closing\n",
    "# Find the standard deviation\n",
    "df['Adj Close'].std()"
   ]
  },
  {
   "cell_type": "markdown",
   "metadata": {},
   "source": [
    "V. Calculate the Prices"
   ]
  },
  {
   "cell_type": "markdown",
   "metadata": {},
   "source": [
    "This section, we will be calculating the daily returns, log returns, and other technical indicators such as RSI(Relative Strength Index), MA(Moving Average), SMA(Simple Moving Averga), EMA(Exponential Moving Average), and VWAP(Voume Weighted Average Price). We will also calculate drawdowns."
   ]
  },
  {
   "cell_type": "code",
   "execution_count": 29,
   "metadata": {
    "collapsed": false,
    "inputHidden": false,
    "jupyter": {
     "outputs_hidden": false
    },
    "outputHidden": false
   },
   "outputs": [
    {
     "data": {
      "text/plain": [
       "Date\n",
       "1980-12-12         NaN\n",
       "1980-12-15    0.055042\n",
       "1980-12-16    0.079212\n",
       "1980-12-17   -0.024153\n",
       "1980-12-18   -0.028176\n",
       "Name: Daily_Returns, dtype: float64"
      ]
     },
     "execution_count": 29,
     "metadata": {},
     "output_type": "execute_result"
    }
   ],
   "source": [
    "# Daily Returns\n",
    "# Formula: (Today Price / Yesterday Price) - 1 \n",
    "df['Daily_Returns'] = df['Adj Close'].shift(1) / df['Adj Close']  - 1\n",
    "df['Daily_Returns'].head()"
   ]
  },
  {
   "cell_type": "code",
   "execution_count": 57,
   "metadata": {
    "collapsed": false,
    "inputHidden": false,
    "jupyter": {
     "outputs_hidden": false
    },
    "outputHidden": false
   },
   "outputs": [
    {
     "data": {
      "text/plain": [
       "Date\n",
       "1980-12-12         NaN\n",
       "1980-12-15   -0.052170\n",
       "1980-12-16   -0.073398\n",
       "1980-12-17    0.024750\n",
       "1980-12-18    0.028993\n",
       "Name: Adj Close, dtype: float64"
      ]
     },
     "execution_count": 57,
     "metadata": {},
     "output_type": "execute_result"
    }
   ],
   "source": [
    "# Another way of calculating Daily Returns in simple way\n",
    "daily_returns = df['Adj Close'].pct_change(1) # 1 is for \"One Day\" in the past\n",
    "daily_returns.head()"
   ]
  },
  {
   "cell_type": "code",
   "execution_count": 58,
   "metadata": {
    "collapsed": false,
    "inputHidden": false,
    "jupyter": {
     "outputs_hidden": false
    },
    "outputHidden": false
   },
   "outputs": [],
   "source": [
    "# Log Returns\n",
    "# Formula: log(Today Price/ Yesterday Price)\n",
    "df['Log_Returns'] = np.log(df['Adj Close']) - np.log(df['Adj Close'].shift(1))"
   ]
  },
  {
   "cell_type": "markdown",
   "metadata": {},
   "source": [
    "In this part of this section, we will be using the library of technical analysis. This packages has many different types of technical indicators. However, it does not have every single technical indicators.\n",
    "We do not need to do calculation since the library has done it for us.\n",
    "https://mrjbq7.github.io/ta-lib/doc_index.html"
   ]
  },
  {
   "cell_type": "code",
   "execution_count": 59,
   "metadata": {
    "collapsed": false,
    "inputHidden": false,
    "jupyter": {
     "outputs_hidden": false
    },
    "outputHidden": false
   },
   "outputs": [],
   "source": [
    "import talib as ta\n",
    "\n",
    "# Creating Indicators\n",
    "n=30 # number of periods\n",
    "\n",
    "# RSI(Relative Strength Index)\n",
    "# RSI is technical analysis indicator\n",
    "# https://www.investopedia.com/terms/r/rsi.asp\n",
    "df['RSI']=ta.RSI(np.array(df['Adj Close'].shift(1)), timeperiod=n)\n",
    "\n",
    "# MA(Moving Average)\n",
    "# https://www.investopedia.com/terms/m/movingaverage.asp\n",
    "df['MA']=ta.MA(np.array(df['Adj Close'].shift(1)), timeperiod=n, matype=0)\n",
    "\n",
    "# SMA(Simple Moving Average)\n",
    "# https://www.investopedia.com/terms/s/sma.asp\n",
    "df['SMA']=ta.SMA(np.array(df['Adj Close'].shift(1)))\n",
    "\n",
    "# EMA(Exponential Moving Average)\n",
    "# https://www.investopedia.com/terms/e/ema.asp\n",
    "df['EMA']=ta.EMA(np.array(df['Adj Close'].shift(1)), timeperiod=n)"
   ]
  },
  {
   "cell_type": "code",
   "execution_count": 62,
   "metadata": {
    "collapsed": false,
    "inputHidden": false,
    "jupyter": {
     "outputs_hidden": false
    },
    "outputHidden": false
   },
   "outputs": [
    {
     "data": {
      "text/html": [
       "<div>\n",
       "<style scoped>\n",
       "    .dataframe tbody tr th:only-of-type {\n",
       "        vertical-align: middle;\n",
       "    }\n",
       "\n",
       "    .dataframe tbody tr th {\n",
       "        vertical-align: top;\n",
       "    }\n",
       "\n",
       "    .dataframe thead th {\n",
       "        text-align: right;\n",
       "    }\n",
       "</style>\n",
       "<table border=\"1\" class=\"dataframe\">\n",
       "  <thead>\n",
       "    <tr style=\"text-align: right;\">\n",
       "      <th></th>\n",
       "      <th>Open</th>\n",
       "      <th>High</th>\n",
       "      <th>Low</th>\n",
       "      <th>Close</th>\n",
       "      <th>Adj Close</th>\n",
       "      <th>Volume</th>\n",
       "      <th>Daily_Returns</th>\n",
       "      <th>Log_Returns</th>\n",
       "      <th>RSI</th>\n",
       "      <th>MA</th>\n",
       "      <th>SMA</th>\n",
       "      <th>EMA</th>\n",
       "      <th>VWAP</th>\n",
       "    </tr>\n",
       "    <tr>\n",
       "      <th>Date</th>\n",
       "      <th></th>\n",
       "      <th></th>\n",
       "      <th></th>\n",
       "      <th></th>\n",
       "      <th></th>\n",
       "      <th></th>\n",
       "      <th></th>\n",
       "      <th></th>\n",
       "      <th></th>\n",
       "      <th></th>\n",
       "      <th></th>\n",
       "      <th></th>\n",
       "      <th></th>\n",
       "    </tr>\n",
       "  </thead>\n",
       "  <tbody>\n",
       "    <tr>\n",
       "      <th>2022-11-10</th>\n",
       "      <td>141.240005</td>\n",
       "      <td>146.869995</td>\n",
       "      <td>139.500000</td>\n",
       "      <td>146.869995</td>\n",
       "      <td>146.869995</td>\n",
       "      <td>118854000</td>\n",
       "      <td>-0.081705</td>\n",
       "      <td>0.085236</td>\n",
       "      <td>41.991193</td>\n",
       "      <td>143.532070</td>\n",
       "      <td>143.532070</td>\n",
       "      <td>145.136704</td>\n",
       "      <td>8.68</td>\n",
       "    </tr>\n",
       "    <tr>\n",
       "      <th>2022-11-11</th>\n",
       "      <td>145.820007</td>\n",
       "      <td>150.009995</td>\n",
       "      <td>144.369995</td>\n",
       "      <td>149.699997</td>\n",
       "      <td>149.699997</td>\n",
       "      <td>93903800</td>\n",
       "      <td>-0.018904</td>\n",
       "      <td>0.019085</td>\n",
       "      <td>49.339057</td>\n",
       "      <td>143.686269</td>\n",
       "      <td>143.686269</td>\n",
       "      <td>145.248529</td>\n",
       "      <td>8.68</td>\n",
       "    </tr>\n",
       "    <tr>\n",
       "      <th>2022-11-14</th>\n",
       "      <td>148.970001</td>\n",
       "      <td>150.279999</td>\n",
       "      <td>147.429993</td>\n",
       "      <td>148.279999</td>\n",
       "      <td>148.279999</td>\n",
       "      <td>73374100</td>\n",
       "      <td>0.009576</td>\n",
       "      <td>-0.009531</td>\n",
       "      <td>50.857686</td>\n",
       "      <td>144.077232</td>\n",
       "      <td>144.077232</td>\n",
       "      <td>145.535721</td>\n",
       "      <td>8.69</td>\n",
       "    </tr>\n",
       "    <tr>\n",
       "      <th>2022-11-15</th>\n",
       "      <td>152.220001</td>\n",
       "      <td>153.589996</td>\n",
       "      <td>148.559998</td>\n",
       "      <td>150.039993</td>\n",
       "      <td>150.039993</td>\n",
       "      <td>89868300</td>\n",
       "      <td>-0.011730</td>\n",
       "      <td>0.011800</td>\n",
       "      <td>50.078477</td>\n",
       "      <td>144.279429</td>\n",
       "      <td>144.279429</td>\n",
       "      <td>145.712771</td>\n",
       "      <td>8.69</td>\n",
       "    </tr>\n",
       "    <tr>\n",
       "      <th>2022-11-16</th>\n",
       "      <td>149.130005</td>\n",
       "      <td>149.869995</td>\n",
       "      <td>147.289993</td>\n",
       "      <td>148.789993</td>\n",
       "      <td>148.789993</td>\n",
       "      <td>63918648</td>\n",
       "      <td>0.008401</td>\n",
       "      <td>-0.008366</td>\n",
       "      <td>51.040273</td>\n",
       "      <td>144.418827</td>\n",
       "      <td>144.418827</td>\n",
       "      <td>145.991946</td>\n",
       "      <td>8.69</td>\n",
       "    </tr>\n",
       "  </tbody>\n",
       "</table>\n",
       "</div>"
      ],
      "text/plain": [
       "                  Open        High         Low       Close   Adj Close  \\\n",
       "Date                                                                     \n",
       "2022-11-10  141.240005  146.869995  139.500000  146.869995  146.869995   \n",
       "2022-11-11  145.820007  150.009995  144.369995  149.699997  149.699997   \n",
       "2022-11-14  148.970001  150.279999  147.429993  148.279999  148.279999   \n",
       "2022-11-15  152.220001  153.589996  148.559998  150.039993  150.039993   \n",
       "2022-11-16  149.130005  149.869995  147.289993  148.789993  148.789993   \n",
       "\n",
       "               Volume  Daily_Returns  Log_Returns        RSI          MA  \\\n",
       "Date                                                                       \n",
       "2022-11-10  118854000      -0.081705     0.085236  41.991193  143.532070   \n",
       "2022-11-11   93903800      -0.018904     0.019085  49.339057  143.686269   \n",
       "2022-11-14   73374100       0.009576    -0.009531  50.857686  144.077232   \n",
       "2022-11-15   89868300      -0.011730     0.011800  50.078477  144.279429   \n",
       "2022-11-16   63918648       0.008401    -0.008366  51.040273  144.418827   \n",
       "\n",
       "                   SMA         EMA  VWAP  \n",
       "Date                                      \n",
       "2022-11-10  143.532070  145.136704  8.68  \n",
       "2022-11-11  143.686269  145.248529  8.68  \n",
       "2022-11-14  144.077232  145.535721  8.69  \n",
       "2022-11-15  144.279429  145.712771  8.69  \n",
       "2022-11-16  144.418827  145.991946  8.69  "
      ]
     },
     "execution_count": 62,
     "metadata": {},
     "output_type": "execute_result"
    }
   ],
   "source": [
    "# Volume Weighted Average Price - VWAP\n",
    "# http://stockcharts.com/school/doku.php?id=chart_school:technical_indicators:vwap_intraday\n",
    "df['VWAP'] = round(np.cumsum(df['Volume']*(df['High']+df['Low'])/2) / np.cumsum(df['Volume']), 2)\n",
    "df.tail()"
   ]
  },
  {
   "cell_type": "code",
   "execution_count": 34,
   "metadata": {
    "collapsed": false,
    "inputHidden": false,
    "jupyter": {
     "outputs_hidden": false
    },
    "outputHidden": false
   },
   "outputs": [],
   "source": [
    "# Drawdown\n",
    "# Drawdown shows the decline price since the stock began trading\n",
    "# https://www.investopedia.com/terms/d/drawdown.asp\n",
    "# There are 252 trading day in a year\n",
    "window = 252\n",
    "\n",
    "# Calculate the maximum drawdown\n",
    "# Use the min_period of 1 (1 is the least valid observations) for the first 252 day in the data\n",
    "Maximum_Drawdown = df['Adj Close'].rolling(window, min_periods=1).max()\n",
    "Daily_Drawdown = df['Adj Close']/Maximum_Drawdown - 1.0\n",
    "\n",
    "# Calculate the negative drawdown\n",
    "Negative_Drawdown = Daily_Drawdown.rolling(window, min_periods=1).min()"
   ]
  },
  {
   "cell_type": "markdown",
   "metadata": {},
   "source": [
    "VI. Plot Charts"
   ]
  },
  {
   "cell_type": "code",
   "execution_count": 35,
   "metadata": {
    "collapsed": false,
    "inputHidden": false,
    "jupyter": {
     "outputs_hidden": false
    },
    "outputHidden": false
   },
   "outputs": [
    {
     "data": {
      "image/png": "[encoded data removed]",
      "text/plain": [
       "<Figure size 1152x720 with 1 Axes>"
      ]
     },
     "metadata": {
      "needs_background": "light"
     },
     "output_type": "display_data"
    }
   ],
   "source": [
    "# Plot Simple Line Chart\n",
    "# Plot Adj Close\n",
    "\n",
    "plt.figure(figsize=(16,10))\n",
    "df['Adj Close'].plot(grid=True)\n",
    "plt.title(\"Stock Adj Close Price\", fontsize=18, fontweight='bold')\n",
    "plt.xlabel(\"Date\", fontsize=12)\n",
    "plt.ylabel(\"Price\",fontsize=12)\n",
    "plt.show()"
   ]
  },
  {
   "cell_type": "code",
   "execution_count": 36,
   "metadata": {
    "collapsed": false,
    "inputHidden": false,
    "jupyter": {
     "outputs_hidden": false
    },
    "outputHidden": false
   },
   "outputs": [
    {
     "data": {
      "image/png": "[encoded data removed]",
      "text/plain": [
       "<Figure size 1152x720 with 1 Axes>"
      ]
     },
     "metadata": {
      "needs_background": "light"
     },
     "output_type": "display_data"
    }
   ],
   "source": [
    "# Plot High, Low, Adj Close\n",
    "df[['High', 'Low', 'Adj Close']].plot(figsize=(16,10), grid=True)\n",
    "plt.title(\"Stock Adj Close Price\", fontsize=18, fontweight='bold')\n",
    "plt.xlabel(\"Date\", fontsize=12)\n",
    "plt.ylabel(\"Price\", fontsize=12)\n",
    "plt.show()"
   ]
  },
  {
   "cell_type": "code",
   "execution_count": 37,
   "metadata": {
    "collapsed": false,
    "inputHidden": false,
    "jupyter": {
     "outputs_hidden": false
    },
    "outputHidden": false
   },
   "outputs": [
    {
     "data": {
      "image/png": "[encoded data removed]",
      "text/plain": [
       "<Figure size 864x432 with 1 Axes>"
      ]
     },
     "metadata": {
      "needs_background": "light"
     },
     "output_type": "display_data"
    }
   ],
   "source": [
    "# Plot Daily Returns\n",
    "df['Daily_Returns'].plot(figsize=(12,6))\n",
    "plt.title(\"Daily Returns\",fontsize=18, fontweight='bold')\n",
    "plt.xlabel(\"Date\", fontsize=12)\n",
    "plt.ylabel(\"Price\", fontsize=12)\n",
    "plt.show()"
   ]
  },
  {
   "cell_type": "code",
   "execution_count": 38,
   "metadata": {
    "collapsed": false,
    "inputHidden": false,
    "jupyter": {
     "outputs_hidden": false
    },
    "outputHidden": false
   },
   "outputs": [
    {
     "data": {
      "image/png": "[encoded data removed]",
      "text/plain": [
       "<Figure size 864x432 with 1 Axes>"
      ]
     },
     "metadata": {
      "needs_background": "light"
     },
     "output_type": "display_data"
    }
   ],
   "source": [
    "# Plot Log Returns\n",
    "df['Log_Returns'].plot(figsize=(12,6))\n",
    "plt.title(\"Log Returns\", fontsize=18, fontweight='bold')\n",
    "plt.xlabel(\"Date\", fontsize=12)\n",
    "plt.ylabel(\"Price\", fontsize=12)\n",
    "plt.show()"
   ]
  },
  {
   "cell_type": "code",
   "execution_count": 39,
   "metadata": {
    "collapsed": false,
    "inputHidden": false,
    "jupyter": {
     "outputs_hidden": false
    },
    "outputHidden": false
   },
   "outputs": [
    {
     "data": {
      "image/png": "[encoded data removed]",
      "text/plain": [
       "<Figure size 1152x720 with 1 Axes>"
      ]
     },
     "metadata": {
      "needs_background": "light"
     },
     "output_type": "display_data"
    }
   ],
   "source": [
    "# Histogram of Daily Returns\n",
    "# Histogram is distribution of numerical data and has a rectangle whose area is prportional to the frequency of a variable. \n",
    "plt.figure(figsize=(16,10))\n",
    "plt.hist(df['Daily_Returns'].dropna(), bins=100, label='Daily Returns data') # Drop NaN\n",
    "plt.title(\"Histogram of Daily Returns\", fontsize=18, fontweight='bold')\n",
    "plt.axvline(df['Daily_Returns'].mean(), color='r', linestyle='dashed', linewidth=2) # Shows the average line\n",
    "plt.xlabel(\"Date\", fontsize=12)\n",
    "plt.ylabel(\"Daily Returns\", fontsize=12)\n",
    "plt.show()"
   ]
  },
  {
   "cell_type": "code",
   "execution_count": 40,
   "metadata": {
    "collapsed": false,
    "inputHidden": false,
    "jupyter": {
     "outputs_hidden": false
    },
    "outputHidden": false
   },
   "outputs": [
    {
     "data": {
      "image/png": "[encoded data removed]",
      "text/plain": [
       "<Figure size 1152x720 with 1 Axes>"
      ]
     },
     "metadata": {
      "needs_background": "light"
     },
     "output_type": "display_data"
    }
   ],
   "source": [
    "# Plot Drawdown\n",
    "plt.figure(figsize=(16,10))\n",
    "Daily_Drawdown.plot()\n",
    "Negative_Drawdown.plot(color='r',grid=True) \n",
    "plt.title(\"Maximum Drawdown\", fontsize=18, fontweight='bold')\n",
    "plt.xlabel(\"Date\", fontsize=12)\n",
    "plt.ylabel(\"Price\", fontsize=12)\n",
    "plt.show()"
   ]
  },
  {
   "cell_type": "markdown",
   "metadata": {},
   "source": [
    "VII. Holding Period Return(HPR)\n",
    "\n",
    "Holding period return (HPR) is the rate of return on an individual stocks or portfolio over the whole period during the time it was held and it a measurement of investment performance. "
   ]
  },
  {
   "cell_type": "code",
   "execution_count": 44,
   "metadata": {
    "collapsed": false,
    "inputHidden": false,
    "jupyter": {
     "outputs_hidden": false
    },
    "outputHidden": false
   },
   "outputs": [
    {
     "name": "stdout",
     "output_type": "stream",
     "text": [
      "[*********************100%***********************]  1 of 1 completed\n"
     ]
    }
   ],
   "source": [
    "# https://www.investopedia.com/exam-guide/series-65/quantitative-methods/holding-period-return.asp\n",
    "# Formula: (Ending Value of Investment + Dividend - Beginning Value of Investment) / Beginning Value of Investment\n",
    "# To get dividend in Yahoo!\n",
    "DIV = yf.download(stock, actions=True)['Dividends']"
   ]
  },
  {
   "cell_type": "code",
   "execution_count": 45,
   "metadata": {
    "collapsed": false,
    "inputHidden": false,
    "jupyter": {
     "outputs_hidden": false
    },
    "outputHidden": false
   },
   "outputs": [
    {
     "data": {
      "text/plain": [
       "Date\n",
       "1980-12-12    0.0\n",
       "1980-12-15    0.0\n",
       "1980-12-16    0.0\n",
       "1980-12-17    0.0\n",
       "1980-12-18    0.0\n",
       "             ... \n",
       "2022-11-10    0.0\n",
       "2022-11-11    0.0\n",
       "2022-11-14    0.0\n",
       "2022-11-15    0.0\n",
       "2022-11-16    0.0\n",
       "Name: Dividends, Length: 10573, dtype: float64"
      ]
     },
     "execution_count": 45,
     "metadata": {},
     "output_type": "execute_result"
    }
   ],
   "source": [
    "# See how much dividends and splits was given during the time period\n",
    "DIV"
   ]
  },
  {
   "cell_type": "code",
   "execution_count": 46,
   "metadata": {
    "collapsed": false,
    "inputHidden": false,
    "jupyter": {
     "outputs_hidden": false
    },
    "outputHidden": false
   },
   "outputs": [
    {
     "data": {
      "text/plain": [
       "6.833564"
      ]
     },
     "execution_count": 46,
     "metadata": {},
     "output_type": "execute_result"
    }
   ],
   "source": [
    "# Add all the dividend\n",
    "Total_Dividend = DIV.sum()\n",
    "Total_Dividend"
   ]
  },
  {
   "cell_type": "code",
   "execution_count": 47,
   "metadata": {
    "collapsed": false,
    "inputHidden": false,
    "jupyter": {
     "outputs_hidden": false
    },
    "outputHidden": false
   },
   "outputs": [
    {
     "data": {
      "text/plain": [
       "68.57415881826162"
      ]
     },
     "execution_count": 47,
     "metadata": {},
     "output_type": "execute_result"
    }
   ],
   "source": [
    "# You invest since the beginning and sold it end of 2022\n",
    "HPR = (df['Adj Close'][502] + Total_Dividend - df['Adj Close'][0]) / df['Adj Close'][0]\n",
    "HPR"
   ]
  },
  {
   "cell_type": "code",
   "execution_count": 48,
   "metadata": {
    "collapsed": false,
    "inputHidden": false,
    "jupyter": {
     "outputs_hidden": false
    },
    "outputHidden": false
   },
   "outputs": [
    {
     "name": "stdout",
     "output_type": "stream",
     "text": [
      "Holding Period Return:  6857.42%\n"
     ]
    }
   ],
   "source": [
    "# You can use round for 4 decimal points\n",
    "print('Holding Period Return: ', str(round(HPR,4)*100)+\"%\")"
   ]
  },
  {
   "cell_type": "markdown",
   "metadata": {},
   "source": [
    "We going to pick another stocks that is Microsoft and we will compare it to Apple."
   ]
  },
  {
   "cell_type": "code",
   "execution_count": 79,
   "metadata": {
    "collapsed": false,
    "inputHidden": false,
    "jupyter": {
     "outputs_hidden": false
    },
    "outputHidden": false
   },
   "outputs": [
    {
     "name": "stdin",
     "output_type": "stream",
     "text": [
      "Enter the name of another ticker msft\n"
     ]
    },
    {
     "name": "stdout",
     "output_type": "stream",
     "text": [
      "[*********************100%***********************]  1 of 1 completed\n",
      "[*********************100%***********************]  1 of 1 completed\n"
     ]
    }
   ],
   "source": [
    "stock2 = input(\"Enter the name of another ticker\")\n",
    "df2 =  yf.download(stock2)['Adj Close'] # Use Adj Close only\n",
    "df2_DIV = yf.download(stock2, actions=True)['Dividends']"
   ]
  },
  {
   "cell_type": "code",
   "execution_count": 73,
   "metadata": {
    "collapsed": false,
    "inputHidden": false,
    "jupyter": {
     "outputs_hidden": false
    },
    "outputHidden": false
   },
   "outputs": [
    {
     "data": {
      "text/plain": [
       "Date\n",
       "1986-03-13    0.060980\n",
       "1986-03-14    0.063158\n",
       "1986-03-17    0.064247\n",
       "1986-03-18    0.062613\n",
       "1986-03-19    0.061524\n",
       "Name: Adj Close, dtype: float64"
      ]
     },
     "metadata": {},
     "output_type": "display_data"
    },
    {
     "data": {
      "text/plain": [
       "Date\n",
       "2022-11-10    242.979996\n",
       "2022-11-11    247.110001\n",
       "2022-11-14    241.550003\n",
       "2022-11-15    241.970001\n",
       "2022-11-16    241.729996\n",
       "Name: Adj Close, dtype: float64"
      ]
     },
     "metadata": {},
     "output_type": "display_data"
    }
   ],
   "source": [
    "# Shows only Date and Adj Close\n",
    "display(df2.head()) \n",
    "display(df2.tail())"
   ]
  },
  {
   "cell_type": "code",
   "execution_count": 74,
   "metadata": {
    "collapsed": false,
    "inputHidden": false,
    "jupyter": {
     "outputs_hidden": false
    },
    "outputHidden": false
   },
   "outputs": [
    {
     "data": {
      "text/plain": [
       "Date\n",
       "1986-03-13    0.0\n",
       "1986-03-14    0.0\n",
       "1986-03-17    0.0\n",
       "1986-03-18    0.0\n",
       "1986-03-19    0.0\n",
       "             ... \n",
       "2022-11-10    0.0\n",
       "2022-11-11    0.0\n",
       "2022-11-14    0.0\n",
       "2022-11-15    0.0\n",
       "2022-11-16    0.0\n",
       "Name: Dividends, Length: 9247, dtype: float64"
      ]
     },
     "execution_count": 74,
     "metadata": {},
     "output_type": "execute_result"
    }
   ],
   "source": [
    "# Shows how much dividend was given\n",
    "df2_DIV "
   ]
  },
  {
   "cell_type": "code",
   "execution_count": 70,
   "metadata": {
    "collapsed": false,
    "inputHidden": false,
    "jupyter": {
     "outputs_hidden": false
    },
    "outputHidden": false
   },
   "outputs": [
    {
     "data": {
      "text/plain": [
       "23.870000000000005"
      ]
     },
     "execution_count": 70,
     "metadata": {},
     "output_type": "execute_result"
    }
   ],
   "source": [
    "df2_Dividend = df2_DIV.sum()\n",
    "df2_Dividend"
   ]
  },
  {
   "cell_type": "code",
   "execution_count": 71,
   "metadata": {
    "collapsed": false,
    "inputHidden": false,
    "jupyter": {
     "outputs_hidden": false
    },
    "outputHidden": false
   },
   "outputs": [
    {
     "data": {
      "text/plain": [
       "115.62503490220209"
      ]
     },
     "execution_count": 71,
     "metadata": {},
     "output_type": "execute_result"
    }
   ],
   "source": [
    "# You invest from the beginning and just sold it\n",
    "df2_HPR = (df2[502] + Total_Dividend - df2[0]) / df2[0]\n",
    "df2_HPR"
   ]
  },
  {
   "cell_type": "code",
   "execution_count": 80,
   "metadata": {
    "collapsed": false,
    "inputHidden": false,
    "jupyter": {
     "outputs_hidden": false
    },
    "outputHidden": false
   },
   "outputs": [
    {
     "name": "stdout",
     "output_type": "stream",
     "text": [
      "aapl Holding Period Return:  6857.42%\n",
      "MSFT Holding Period Return:  11562.5%\n"
     ]
    }
   ],
   "source": [
    "# You can use round for 4 decimal points\n",
    "print(f'{stock} Holding Period Return: ', str(round(HPR,4)*100)+\"%\")\n",
    "print(f'{stock2} Holding Period Return: ', str(round(df2_HPR,4)*100)+\"%\")"
   ]
  },
  {
   "cell_type": "markdown",
   "metadata": {},
   "source": [
    "In the conclusion, we use 2 stocks to compare holding period return. Microsoft has a higher holding period return than Apple. Based on this analysis, I would invest in Microsoft.If you comparing 2 stocks for a portfolio it is suggest to pick the one with the highest rate of return. "
   ]
  },
  {
   "cell_type": "code",
   "execution_count": null,
   "metadata": {},
   "outputs": [],
   "source": []
  },
  {
   "cell_type": "code",
   "execution_count": null,
   "metadata": {},
   "outputs": [],
   "source": []
  }
 ],
 "metadata": {
  "kernel_info": {
   "name": "python3"
  },
  "kernelspec": {
   "display_name": "Python 3 (ipykernel)",
   "language": "python",
   "name": "python3"
  },
  "language_info": {
   "codemirror_mode": {
    "name": "ipython",
    "version": 3
   },
   "file_extension": ".py",
   "mimetype": "text/x-python",
   "name": "python",
   "nbconvert_exporter": "python",
   "pygments_lexer": "ipython3",
   "version": "3.7.11"
  },
  "nteract": {
   "version": "0.11.9"
  }
 },
 "nbformat": 4,
 "nbformat_minor": 4
}
